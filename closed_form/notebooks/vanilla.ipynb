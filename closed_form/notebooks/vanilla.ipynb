{
 "cells": [
  {
   "cell_type": "markdown",
   "metadata": {},
   "source": [
    "# Vanilla closed-form with xtensor-python\n",
    "\n",
    "This notebook demonstrates the usage of a python extension module built upon **xtensor-python**. The following packages are required to get it work:\n",
    "- xtl\n",
    "- xtensor\n",
    "- xtensor-python\n",
    "- pybind11\n",
    "- numpy\n",
    "- bqplot\n",
    "- ipyvolume\n",
    "\n",
    "We suggest to insall them with conda: `conda install xtensor-python xsimd bqplot ipyvolume -c quantstack -c conda-forge`\n",
    "so the dependencies are handled for you."
   ]
  },
  {
   "cell_type": "code",
   "execution_count": 1,
   "metadata": {},
   "outputs": [],
   "source": [
    "import math\n",
    "import numpy as np\n",
    "import xtensor_closed_forms as xcf\n",
    "from bqplot import (LinearScale, Lines, Axis, Figure)\n",
    "import ipywidgets as widgets\n",
    "import ipyvolume as ipv\n",
    "from IPython.display import display"
   ]
  },
  {
   "cell_type": "markdown",
   "metadata": {},
   "source": [
    "## 1. Simple european call\n",
    "\n",
    "In this section, we plot the price of a european call depending on the spot, and show how the volatility, maturity and rates\n",
    "can influence this price curve. We can pass numpy arrays to the functions defined in `xtensor_closed_forms` even if these are not python functions. Besides, `xtensor-python` operates on numpy arrays **in place**, so the arrays are never copied."
   ]
  },
  {
   "cell_type": "code",
   "execution_count": 2,
   "metadata": {},
   "outputs": [],
   "source": [
    "iscall = True\n",
    "vol = 0.2\n",
    "mat = 1.\n",
    "rate = 0.04\n",
    "strike = 1.\n",
    "spot = np.arange(0.1, 1.9, 0.01)"
   ]
  },
  {
   "cell_type": "code",
   "execution_count": 3,
   "metadata": {},
   "outputs": [],
   "source": [
    "# Documentation works as if it was a python function\n",
    "?xcf.vanilla_discounted_payoff"
   ]
  },
  {
   "cell_type": "code",
   "execution_count": 4,
   "metadata": {},
   "outputs": [],
   "source": [
    "price = xcf.bs_discounted_price(spot, strike, vol, mat, rate, iscall)\n",
    "discounted_payoff = xcf.vanilla_discounted_payoff(spot, strike, mat, rate, iscall)"
   ]
  },
  {
   "cell_type": "code",
   "execution_count": 5,
   "metadata": {},
   "outputs": [
    {
     "data": {
      "application/vnd.jupyter.widget-view+json": {
       "model_id": "33b943f8416245f0a6eb9b27544668ec",
       "version_major": 2,
       "version_minor": 0
      },
      "text/plain": [
       "VBox(children=(Figure(axes=[Axis(label='spot', scale=LinearScale()), Axis(label='price', orientation='vertical…"
      ]
     },
     "metadata": {},
     "output_type": "display_data"
    }
   ],
   "source": [
    "sc_x = LinearScale()\n",
    "sc_y = LinearScale(max=1.)\n",
    "call_graph = Lines(x=spot, y=price, scales={'x': sc_x, 'y': sc_y}, labels=['Price'], display_legend=True)\n",
    "payoff_graph = Lines(x=spot, y=discounted_payoff, scales={'x': sc_x, 'y': sc_y}, labels=['Payoff'], colors=['red'],\n",
    "                    display_legend=True)\n",
    "ax_x = Axis(scale=sc_x, label=\"spot\")\n",
    "ax_y = Axis(scale=sc_y, orientation='vertical', label=\"price\")\n",
    "\n",
    "vol_slider = widgets.FloatSlider(value=vol, min=0, max=1, step=0.05, description='volatility')\n",
    "def handle_vol_change(change):\n",
    "    global vol\n",
    "    vol = change.new\n",
    "    call_graph.y = xcf.bs_discounted_price(spot, strike, vol, mat, rate, iscall)\n",
    "vol_slider.observe(handle_vol_change, names='value')\n",
    "\n",
    "rate_slider = widgets.FloatSlider(value=rate, min=0, max=0.1, step=0.01, description='rate')\n",
    "def handle_rate_change(change):\n",
    "    global rate\n",
    "    rate = change.new\n",
    "    call_graph.y = xcf.bs_discounted_price(spot, strike, vol, mat, rate, iscall)\n",
    "    payoff_graph.y = xcf.vanilla_discounted_payoff(spot, strike, mat, rate, iscall)\n",
    "rate_slider.observe(handle_rate_change, names='value')\n",
    "\n",
    "mat_slider = widgets.FloatSlider(value=mat, min=0.5, max=10., step=0.5, description='maturity')\n",
    "def handle_mat_change(change):\n",
    "    global mat\n",
    "    mat = change.new\n",
    "    call_graph.y = xcf.bs_discounted_price(spot, strike, vol, mat, rate, iscall)\n",
    "    payoff_graph.y = xcf.vanilla_discounted_payoff(spot, strike, mat, rate, iscall)\n",
    "mat_slider.observe(handle_mat_change, names='value')\n",
    "\n",
    "figure = Figure(marks=[call_graph, payoff_graph], axes=[ax_x, ax_y], title='European Call',\n",
    "               legend_location='top-left')\n",
    "\n",
    "r = widgets.VBox([figure, vol_slider, rate_slider, mat_slider])\n",
    "display(r)"
   ]
  },
  {
   "cell_type": "markdown",
   "metadata": {},
   "source": [
    "## 2. Surface plot for many calls\n",
    "\n",
    "In this section, we demonstrate the braodcasting feature available in `xtensor-python`. To do so, we compute the price matrix of european calls for different spots and volatilities."
   ]
  },
  {
   "cell_type": "code",
   "execution_count": 6,
   "metadata": {},
   "outputs": [],
   "source": [
    "#This avoids having the 3D plot updated when changing the sliders of the 2D plot (and vice-versa)\n",
    "iscall_2d = True\n",
    "mat_2d = 1.\n",
    "rate_2d = 0.04\n",
    "strike_2d = 1.\n",
    "spot_2d = np.arange(0.1, 1.5, 0.01)"
   ]
  },
  {
   "cell_type": "code",
   "execution_count": 7,
   "metadata": {},
   "outputs": [],
   "source": [
    "vol_lin = np.arange(0.05, 0.35, 0.01)\n",
    "vol_2d = vol_lin[:, np.newaxis]\n",
    "price_2d = xcf.bs_discounted_price(spot_2d, strike_2d, vol_2d, mat_2d, rate_2d, iscall_2d)"
   ]
  },
  {
   "cell_type": "code",
   "execution_count": 8,
   "metadata": {},
   "outputs": [
    {
     "data": {
      "application/vnd.jupyter.widget-view+json": {
       "model_id": "1c40065812b445079b340ccf1d5678e5",
       "version_major": 2,
       "version_minor": 0
      },
      "text/plain": [
       "VBox(children=(Figure(camera=PerspectiveCamera(fov=46.0, position=(0.0, 0.0, 2.0), quaternion=(0.0, 0.0, 0.0, …"
      ]
     },
     "metadata": {},
     "output_type": "display_data"
    }
   ],
   "source": [
    "fig = ipv.figure()\n",
    "ipv.pylab.ylim(0, 0.6)\n",
    "ipv.pylab.zlim(0, 0.4)\n",
    "ipv.pylab.xlabel('spot')\n",
    "ipv.pylab.ylabel('price')\n",
    "ipv.pylab.zlabel('volatility')\n",
    "x, y = np.meshgrid(spot_2d, vol_2d)\n",
    "ipv.plot_mesh(x, price_2d, y)\n",
    "\n",
    "rate_slider_2d = widgets.FloatSlider(value=rate, min=0, max=0.1, step=0.01, description='rate')\n",
    "def handle_rate_change_2d(change):\n",
    "    global rate_2d\n",
    "    global price_2d\n",
    "    rate_2d = change.new\n",
    "    price_2d = xcf.bs_discounted_price(spot_2d, strike_2d, vol_2d, mat_2d, rate_2d, iscall_2d)\n",
    "    mesh = ipv.plot_mesh(x, price_2d, y)\n",
    "    fig.meshes = [mesh]\n",
    "rate_slider_2d.observe(handle_rate_change_2d, names='value')\n",
    "\n",
    "mat_slider_2d = mat_slider = widgets.FloatSlider(value=mat, min=0.5, max=10., step=0.5, description='maturity')\n",
    "def handle_mat_change_2d(change):\n",
    "    global mat_2d\n",
    "    global price_2d\n",
    "    mat_2d = change.new\n",
    "    price_2d = xcf.bs_discounted_price(spot_2d, strike_2d, vol_2d, mat_2d, rate_2d, iscall_2d)\n",
    "    mesh = ipv.plot_mesh(x, price_2d, y)\n",
    "    fig.meshes = [mesh]\n",
    "mat_slider_2d.observe(handle_mat_change_2d, names='value')\n",
    "\n",
    "r_2d = widgets.VBox([fig, rate_slider_2d, mat_slider_2d])\n",
    "r_2d"
   ]
  },
  {
   "cell_type": "markdown",
   "metadata": {},
   "source": [
    "## 3. Performance"
   ]
  },
  {
   "cell_type": "code",
   "execution_count": 2,
   "metadata": {},
   "outputs": [],
   "source": [
    "import timeit"
   ]
  },
  {
   "cell_type": "code",
   "execution_count": 3,
   "metadata": {},
   "outputs": [],
   "source": [
    "s = \"\"\"\\\n",
    "import numpy as np\n",
    "import xtensor_closed_forms as xcf\n",
    "x = np.random.rand(500, 100)\n",
    "y = np.random.rand(500, 100)\n",
    "\"\"\"\n",
    "nb = 1000"
   ]
  },
  {
   "cell_type": "markdown",
   "metadata": {},
   "source": [
    "**numpy**"
   ]
  },
  {
   "cell_type": "code",
   "execution_count": 11,
   "metadata": {},
   "outputs": [
    {
     "data": {
      "text/plain": [
       "0.11986051400162978"
      ]
     },
     "execution_count": 11,
     "metadata": {},
     "output_type": "execute_result"
    }
   ],
   "source": [
    "timeit.timeit(stmt=\"res = np.sqrt(x*x + y*y)\", setup=s, number=nb)"
   ]
  },
  {
   "cell_type": "markdown",
   "metadata": {},
   "source": [
    "**pyvectorize**"
   ]
  },
  {
   "cell_type": "code",
   "execution_count": 12,
   "metadata": {},
   "outputs": [
    {
     "data": {
      "text/plain": [
       "0.10456105599587318"
      ]
     },
     "execution_count": 12,
     "metadata": {},
     "output_type": "execute_result"
    }
   ],
   "source": [
    "timeit.timeit(stmt=\"res = xcf.distance_vectorized(x, y)\", setup=s, number=nb)"
   ]
  },
  {
   "cell_type": "markdown",
   "metadata": {},
   "source": [
    "**pyarray**"
   ]
  },
  {
   "cell_type": "code",
   "execution_count": 13,
   "metadata": {},
   "outputs": [
    {
     "data": {
      "text/plain": [
       "0.08578408599714749"
      ]
     },
     "execution_count": 13,
     "metadata": {},
     "output_type": "execute_result"
    }
   ],
   "source": [
    "timeit.timeit(stmt=\"res = xcf.distance_array(x, y)\", setup=s, number=nb)"
   ]
  },
  {
   "cell_type": "code",
   "execution_count": null,
   "metadata": {},
   "outputs": [],
   "source": []
  }
 ],
 "metadata": {
  "kernelspec": {
   "display_name": "Python 3",
   "language": "python",
   "name": "python3"
  },
  "language_info": {
   "codemirror_mode": {
    "name": "ipython",
    "version": 3
   },
   "file_extension": ".py",
   "mimetype": "text/x-python",
   "name": "python",
   "nbconvert_exporter": "python",
   "pygments_lexer": "ipython3",
   "version": "3.6.6"
  }
 },
 "nbformat": 4,
 "nbformat_minor": 2
}
