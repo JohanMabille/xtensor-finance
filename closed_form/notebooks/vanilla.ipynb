{
 "cells": [
  {
   "cell_type": "markdown",
   "metadata": {},
   "source": [
    "# Vanilla closed-form with xtensor-python\n",
    "\n",
    "This notebook demonstrates the usage of a python extension module built upon **xtensor-python**. The following packages are required to get it work:\n",
    "- xtl\n",
    "- xtensor\n",
    "- xtensor-python\n",
    "- pybind11\n",
    "- numpy\n",
    "- bqplot\n",
    "- ipywidgets\n",
    "\n",
    "We suggest to insall them with conda: `conda install xtensor-python bqplot ipyvolume -c quantstack -c conda-forge`\n",
    "so the dependencies are handled for you."
   ]
  },
  {
   "cell_type": "code",
   "execution_count": 63,
   "metadata": {},
   "outputs": [],
   "source": [
    "import math\n",
    "import numpy as np\n",
    "import xtensor_closed_forms as xcf\n",
    "from bqplot import (LinearScale, Lines, Axis, Figure)\n",
    "import ipywidgets as widgets\n",
    "import ipyvolume as ipv\n",
    "from IPython.display import display"
   ]
  },
  {
   "cell_type": "markdown",
   "metadata": {},
   "source": [
    "## 1. Simple european call\n",
    "\n",
    "In this section, we plot the price of a european call depending on the spot, and show how the volatility, maturity and rates\n",
    "can influence this price curve. We can pass numpy arrays to the functions defined in `xtensor_closed_forms` even if these are not python functions. Besides, `xtensor-python` operates on numpy arrays **in place**, so the arrays are never copied."
   ]
  },
  {
   "cell_type": "code",
   "execution_count": 10,
   "metadata": {},
   "outputs": [],
   "source": [
    "iscall = True\n",
    "vol = 0.2\n",
    "mat = 1.\n",
    "rate = 0.04\n",
    "strike = 1.\n",
    "spot = np.arange(0.1, 1.9, 0.01)"
   ]
  },
  {
   "cell_type": "code",
   "execution_count": 3,
   "metadata": {},
   "outputs": [],
   "source": [
    "# Documentation works as if it was a python function\n",
    "?xcf.vanilla_discounted_payoff"
   ]
  },
  {
   "cell_type": "code",
   "execution_count": 4,
   "metadata": {},
   "outputs": [],
   "source": [
    "price = xcf.bs_discounted_price(spot, strike, vol, mat, rate, iscall)\n",
    "discounted_payoff = xcf.vanilla_discounted_payoff(spot, strike, mat, rate, iscall)"
   ]
  },
  {
   "cell_type": "code",
   "execution_count": 9,
   "metadata": {},
   "outputs": [
    {
     "data": {
      "application/vnd.jupyter.widget-view+json": {
       "model_id": "48181142af804f54b0f39ff64da969fe",
       "version_major": 2,
       "version_minor": 0
      },
      "text/plain": [
       "VBox(children=(Figure(axes=[Axis(label='spot', scale=LinearScale()), Axis(label='price', orientation='vertical…"
      ]
     },
     "metadata": {},
     "output_type": "display_data"
    }
   ],
   "source": [
    "sc_x = LinearScale()\n",
    "sc_y = LinearScale(max=1.)\n",
    "call_graph = Lines(x=spot, y=price, scales={'x': sc_x, 'y': sc_y}, labels=['Price'], display_legend=True)\n",
    "payoff_graph = Lines(x=spot, y=discounted_payoff, scales={'x': sc_x, 'y': sc_y}, labels=['Payoff'], colors=['red'],\n",
    "                    display_legend=True)\n",
    "ax_x = Axis(scale=sc_x, label=\"spot\")\n",
    "ax_y = Axis(scale=sc_y, orientation='vertical', label=\"price\")\n",
    "\n",
    "vol_slider = widgets.FloatSlider(value=vol, min=0, max=1, step=0.05, description='volatility')\n",
    "def handle_vol_change(change):\n",
    "    global vol\n",
    "    vol = change.new\n",
    "    call_graph.y = xcf.bs_discounted_price(spot, strike, vol, mat, rate, iscall)\n",
    "vol_slider.observe(handle_vol_change, names='value')\n",
    "\n",
    "rate_slider = widgets.FloatSlider(value=rate, min=0, max=0.1, step=0.01, description='rate')\n",
    "def handle_rate_change(change):\n",
    "    global rate\n",
    "    rate = change.new\n",
    "    call_graph.y = xcf.bs_discounted_price(spot, strike, vol, mat, rate, iscall)\n",
    "    payoff_graph.y = xcf.vanilla_discounted_payoff(spot, strike, mat, rate, iscall)\n",
    "rate_slider.observe(handle_rate_change, names='value')\n",
    "\n",
    "mat_slider = widgets.FloatSlider(value=mat, min=0.5, max=10., step=0.5, description='maturity')\n",
    "def handle_mat_change(change):\n",
    "    global mat\n",
    "    mat = change.new\n",
    "    call_graph.y = xcf.bs_discounted_price(spot, strike, vol, mat, rate, iscall)\n",
    "    payoff_graph.y = xcf.vanilla_discounted_payoff(spot, strike, mat, rate, iscall)\n",
    "mat_slider.observe(handle_mat_change, names='value')\n",
    "\n",
    "figure = Figure(marks=[call_graph, payoff_graph], axes=[ax_x, ax_y], title='European Call',\n",
    "               legend_location='top-left')\n",
    "\n",
    "r = widgets.VBox([figure, vol_slider, rate_slider, mat_slider])\n",
    "display(r)"
   ]
  },
  {
   "cell_type": "markdown",
   "metadata": {},
   "source": [
    "## 2. Surface plot for many calls\n",
    "\n",
    "In this section, we demonstrate the braodcasting feature available in `xtensor-python`. To do so, we compute the price matrix of european calls for different spots and volatilities."
   ]
  },
  {
   "cell_type": "code",
   "execution_count": 77,
   "metadata": {},
   "outputs": [],
   "source": [
    "#This avoids having the 3D plot updated when changing the sliders of the 2D plot (and vice-versa)\n",
    "iscall_2d = True\n",
    "mat_2d = 1.\n",
    "rate_2d = 0.04\n",
    "strike_2d = 1.\n",
    "spot_2d = np.arange(0.1, 1.5, 0.01)"
   ]
  },
  {
   "cell_type": "code",
   "execution_count": 79,
   "metadata": {},
   "outputs": [],
   "source": [
    "vol_lin = np.arange(0.05, 0.35, 0.01)\n",
    "vol_2d = vol_lin[:, np.newaxis]\n",
    "price_2d = xcf.bs_discounted_price(spot_2d, strike_2d, vol_2d, mat_2d, rate_2d, iscall_2d)"
   ]
  },
  {
   "cell_type": "code",
   "execution_count": 76,
   "metadata": {},
   "outputs": [
    {
     "data": {
      "application/vnd.jupyter.widget-view+json": {
       "model_id": "f5822b7a5bee442f86634dbd8b5570b4",
       "version_major": 2,
       "version_minor": 0
      },
      "text/plain": [
       "VBox(children=(Figure(camera_center=[0.0, 0.0, 0.0], height=500, matrix_projection=[0.0, 0.0, 0.0, 0.0, 0.0, 0…"
      ]
     },
     "metadata": {},
     "output_type": "display_data"
    }
   ],
   "source": [
    "fig = ipv.figure()\n",
    "ipv.pylab.ylim(0, 0.6)\n",
    "ipv.pylab.zlim(0, 0.4)\n",
    "ipv.pylab.xlabel('spot')\n",
    "ipv.pylab.ylabel('price')\n",
    "ipv.pylab.zlabel('volatility')\n",
    "x, y = np.meshgrid(spot_2d, vol_2d)\n",
    "ipv.plot_mesh(x, price_2d, y)\n",
    "\n",
    "rate_slider_2d = widgets.FloatSlider(value=rate, min=0, max=0.1, step=0.01, description='rate')\n",
    "def handle_rate_change_2d(change):\n",
    "    global rate_2d\n",
    "    global price_2d\n",
    "    rate_2d = change.new\n",
    "    price_2d = xcf.bs_discounted_price(spot_2d, strike_2d, vol_2d, mat_2d, rate_2d, iscall_2d)\n",
    "    mesh = ipv.plot_mesh(x, price_2d, y)\n",
    "    fig.meshes = [mesh]\n",
    "rate_slider_2d.observe(handle_rate_change_2d, names='value')\n",
    "\n",
    "mat_slider_2d = mat_slider = widgets.FloatSlider(value=mat, min=0.5, max=10., step=0.5, description='maturity')\n",
    "def handle_mat_change_2d(change):\n",
    "    global mat_2d\n",
    "    global price_2d\n",
    "    mat_2d = change.new\n",
    "    price_2d = xcf.bs_discounted_price(spot_2d, strike_2d, vol_2d, mat_2d, rate_2d, iscall_2d)\n",
    "    mesh = ipv.plot_mesh(x, price_2d, y)\n",
    "    fig.meshes = [mesh]\n",
    "mat_slider_2d.observe(handle_mat_change_2d, names='value')\n",
    "\n",
    "r_2d = widgets.VBox([fig, rate_slider_2d, mat_slider_2d])\n",
    "r_2d"
   ]
  }
 ],
 "metadata": {
  "kernelspec": {
   "display_name": "Python 3",
   "language": "python",
   "name": "python3"
  },
  "language_info": {
   "codemirror_mode": {
    "name": "ipython",
    "version": 3
   },
   "file_extension": ".py",
   "mimetype": "text/x-python",
   "name": "python",
   "nbconvert_exporter": "python",
   "pygments_lexer": "ipython3",
   "version": "3.6.3"
  }
 },
 "nbformat": 4,
 "nbformat_minor": 2
}
