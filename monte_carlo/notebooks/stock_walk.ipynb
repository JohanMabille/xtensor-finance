{
 "cells": [
  {
   "cell_type": "markdown",
   "metadata": {},
   "source": [
    "# Stock walk\n",
    "\n",
    "This notebook shows how a Python class can inherit from an interface of an extension module (that is, a class in C++)."
   ]
  },
  {
   "cell_type": "code",
   "execution_count": null,
   "metadata": {},
   "outputs": [],
   "source": [
    "import xtensor_monte_carlo as xmc\n",
    "import numpy as np\n",
    "from bqplot import (LinearScale, Lines, Axis, Figure)"
   ]
  },
  {
   "cell_type": "code",
   "execution_count": null,
   "metadata": {},
   "outputs": [],
   "source": [
    "# Definition of a constant diffusion model\n",
    "class ConstantDiffusionModel(xmc.diffusion_model):\n",
    "    def __init__(self, drift, vol):\n",
    "        xmc.diffusion_model.__init__(self)\n",
    "        self.drift = drift\n",
    "        self.volatility = vol\n",
    "        \n",
    "    def get_drift(self, time, spot, drift):\n",
    "        drift.fill(self.drift)\n",
    "    \n",
    "    def get_volatility(self, time, spot, vol):\n",
    "        vol.fill(self.volatility)\n"
   ]
  },
  {
   "cell_type": "code",
   "execution_count": null,
   "metadata": {},
   "outputs": [],
   "source": [
    "drift = 0.002\n",
    "vol = 0.2\n",
    "maturity = 1.\n",
    "model = ConstantDiffusionModel(drift, vol)\n",
    "engine = xmc.mc_engine(model)"
   ]
  },
  {
   "cell_type": "code",
   "execution_count": null,
   "metadata": {},
   "outputs": [],
   "source": [
    "engine.run_simulation(1., maturity, 10)"
   ]
  },
  {
   "cell_type": "code",
   "execution_count": null,
   "metadata": {},
   "outputs": [],
   "source": [
    "res = engine.get_path()\n",
    "time = np.arange(0, int(maturity * 365) + 1)"
   ]
  },
  {
   "cell_type": "code",
   "execution_count": null,
   "metadata": {},
   "outputs": [],
   "source": [
    "sc_x = LinearScale(max=365)\n",
    "sc_y = LinearScale()\n",
    "ax_x = Axis(scale=sc_x, label='time')\n",
    "ax_y = Axis(scale=sc_y, orientation='vertical', label='price')\n",
    "lines = [Lines(x=time, y=res[i], scales={'x': sc_x, 'y': sc_y}) for i in range(0, res.shape[0])]\n",
    "figure = Figure(marks=lines, axes=[ax_x, ax_y], title='Stock walk')\n",
    "figure"
   ]
  },
  {
   "cell_type": "code",
   "execution_count": null,
   "metadata": {},
   "outputs": [],
   "source": []
  },
  {
   "cell_type": "code",
   "execution_count": null,
   "metadata": {},
   "outputs": [],
   "source": []
  }
 ],
 "metadata": {
  "kernelspec": {
   "display_name": "Python 3",
   "language": "python",
   "name": "python3"
  },
  "language_info": {
   "codemirror_mode": {
    "name": "ipython",
    "version": 3
   },
   "file_extension": ".py",
   "mimetype": "text/x-python",
   "name": "python",
   "nbconvert_exporter": "python",
   "pygments_lexer": "ipython3",
   "version": "3.6.6"
  }
 },
 "nbformat": 4,
 "nbformat_minor": 2
}
