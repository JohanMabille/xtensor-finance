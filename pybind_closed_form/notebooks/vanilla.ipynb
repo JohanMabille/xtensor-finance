{
 "cells": [
  {
   "cell_type": "markdown",
   "metadata": {},
   "source": [
    "# Vanilla closed-form with pybind11\n",
    "\n",
    "This notebook demonstrates the usage of a python extension module built upon **pybind11**. The following packages are required to get it work:\n",
    "- pybind11\n",
    "- numpy\n",
    "- bqplot\n",
    "- ipywidgets\n",
    "\n",
    "We suggest to insall them with conda: `conda install pybind11 bqplot ipywidgets -c conda-forge`\n",
    "so the dependencies are handled for you."
   ]
  },
  {
   "cell_type": "code",
   "execution_count": null,
   "metadata": {},
   "outputs": [],
   "source": [
    "import math\n",
    "import numpy as np\n",
    "import pybind_closed_forms as pcf\n",
    "from bqplot import (LinearScale, Lines, Axis, Figure)\n",
    "import ipywidgets as widgets\n",
    "import ipyvolume as ipv\n",
    "from IPython.display import display"
   ]
  },
  {
   "cell_type": "markdown",
   "metadata": {},
   "source": [
    "## 1. Simple european call\n",
    "\n",
    "In this section, we plot the price of a european call depending on the spot, and show how the volatility, maturity and rates\n",
    "can influence this price curve. We can pass numpy arrays to the functions defined in `pybind_closed_forms` even if these are not python functions."
   ]
  },
  {
   "cell_type": "code",
   "execution_count": null,
   "metadata": {},
   "outputs": [],
   "source": [
    "iscall = True\n",
    "vol = 0.2\n",
    "mat = 1.\n",
    "rate = 0.04\n",
    "strike = 1.\n",
    "spot = np.arange(0.1, 1.9, 0.01)"
   ]
  },
  {
   "cell_type": "code",
   "execution_count": null,
   "metadata": {},
   "outputs": [],
   "source": [
    "# Documentation works as if it was a python function\n",
    "?pcf.vanilla_discounted_payoff"
   ]
  },
  {
   "cell_type": "code",
   "execution_count": null,
   "metadata": {},
   "outputs": [],
   "source": [
    "price = np.empty_like(spot)\n",
    "discounted_payoff = np.empty_like(spot)\n",
    "for i in range(spot.shape[0]):\n",
    "    price[i] = pcf.bs_discounted_price(spot[i], strike, vol, mat, rate, iscall)\n",
    "    discounted_payoff[i] = pcf.vanilla_discounted_payoff(spot[i], strike, mat, rate, iscall)"
   ]
  },
  {
   "cell_type": "code",
   "execution_count": null,
   "metadata": {},
   "outputs": [],
   "source": [
    "sc_x = LinearScale()\n",
    "sc_y = LinearScale(max=1.)\n",
    "call_graph = Lines(x=spot, y=price, scales={'x': sc_x, 'y': sc_y}, labels=['Price'], display_legend=True)\n",
    "payoff_graph = Lines(x=spot, y=discounted_payoff, scales={'x': sc_x, 'y': sc_y}, labels=['Payoff'], colors=['red'],\n",
    "                    display_legend=True)\n",
    "ax_x = Axis(scale=sc_x, label=\"spot\")\n",
    "ax_y = Axis(scale=sc_y, orientation='vertical', label=\"price\")\n",
    "\n",
    "vol_slider = widgets.FloatSlider(value=vol, min=0, max=1, step=0.05, description='volatility')\n",
    "def handle_vol_change(change):\n",
    "    global vol\n",
    "    vol = change.new\n",
    "    tmp_call_graph = np.empty_like(spot)\n",
    "    for i in range(spot.shape[0]):\n",
    "        tmp_call_graph[i] = pcf.bs_discounted_price(spot[i], strike, vol, mat, rate, iscall)\n",
    "    call_graph.y = tmp_call_graph\n",
    "vol_slider.observe(handle_vol_change, names='value')\n",
    "\n",
    "rate_slider = widgets.FloatSlider(value=rate, min=0, max=0.1, step=0.01, description='rate')\n",
    "def handle_rate_change(change):\n",
    "    global rate\n",
    "    rate = change.new\n",
    "    tmp_call_graph = np.empty_like(spot)\n",
    "    tmp_payoff_graph = np.empty_like(spot)\n",
    "    for i in range(spot.shape[0]):\n",
    "        tmp_call_graph[i] = pcf.bs_discounted_price(spot[i], strike, vol, mat, rate, iscall)\n",
    "        tmp_payoff_graph[i] = pcf.vanilla_discounted_payoff(spot[i], strike, mat, rate, iscall)\n",
    "    call_graph.y = tmp_call_graph\n",
    "    payoff_graph.y = tmp_payoff_graph\n",
    "rate_slider.observe(handle_rate_change, names='value')\n",
    "\n",
    "mat_slider = widgets.FloatSlider(value=mat, min=0.5, max=10., step=0.5, description='maturity')\n",
    "def handle_mat_change(change):\n",
    "    global mat\n",
    "    mat = change.new\n",
    "    tmp_call_graph = np.empty_like(spot)\n",
    "    tmp_payoff_graph = np.empty_like(spot)\n",
    "    for i in range(spot.shape[0]):\n",
    "        tmp_call_graph[i] = pcf.bs_discounted_price(spot[i], strike, vol, mat, rate, iscall)\n",
    "        tmp_payoff_graph[i] = pcf.vanilla_discounted_payoff(spot[i], strike, mat, rate, iscall)\n",
    "    call_graph.y = tmp_call_graph\n",
    "    payoff_graph.y = tmp_payoff_graph\n",
    "mat_slider.observe(handle_mat_change, names='value')\n",
    "\n",
    "figure = Figure(marks=[call_graph, payoff_graph], axes=[ax_x, ax_y], title='European Call',\n",
    "               legend_location='top-left')\n",
    "\n",
    "r = widgets.VBox([figure, vol_slider, rate_slider, mat_slider])\n",
    "display(r)"
   ]
  },
  {
   "cell_type": "code",
   "execution_count": null,
   "metadata": {},
   "outputs": [],
   "source": [
    "payoff = pcf.VanillaPayoff(1., 1., True)\n",
    "pr = pcf.vanilla_discounted_payoff(spot[150], rate, payoff)\n",
    "pr"
   ]
  }
 ],
 "metadata": {
  "kernelspec": {
   "display_name": "Python 3",
   "language": "python",
   "name": "python3"
  },
  "language_info": {
   "codemirror_mode": {
    "name": "ipython",
    "version": 3
   },
   "file_extension": ".py",
   "mimetype": "text/x-python",
   "name": "python",
   "nbconvert_exporter": "python",
   "pygments_lexer": "ipython3",
   "version": "3.6.6"
  }
 },
 "nbformat": 4,
 "nbformat_minor": 2
}
